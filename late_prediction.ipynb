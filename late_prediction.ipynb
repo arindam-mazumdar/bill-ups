{
 "cells": [
  {
   "cell_type": "markdown",
   "metadata": {},
   "source": [
    "# Predicting Late Return of Books"
   ]
  },
  {
   "cell_type": "markdown",
   "metadata": {},
   "source": [
    "Questions asked are:\n",
    " \n",
    " - <b>build a model to predict the likelihood of a late return of any book at checkout time? </b>\n",
    " \n",
    "  This notebook consists of data wrangling, data visualization and a model for predicting the possibility of a late return.\n",
    "\n",
    " - <b>Are there any factors you can find that are connected with late returns? </b>\n",
    " \n",
    "  Yes. I find that distance between the library and the customer's residence is the most important factor in determining the possibility of a late return.\n",
    " The possibility of late return increases by increasing the distance between the library and the customer's residence.\n",
    " \n",
    " - <b>What would you recommend the library do to mitigate the risks you find? </b>\n",
    "  \n",
    "  I recommend the libraries prioritize renting books to the local customers, particularly those customers who live within 2-3 miles of the library. \n",
    " \n",
    " - <b>How would you present your findings to them to get buy-in? </b>\n",
    " \n",
    "On average 20% of the books return late in these libraries. If they can implement my recommendation of prioritizing local customers who live in nearby blocks it would reduce the late return to 10%. \n",
    "(since customers living within 3 miles have the probability of late returning of only 10%).   \n",
    " So, I would like to convince the Library that if this recommendation is considered it will reduce the late returns by half.\n",
    "\n",
    " ### Content of the Notebook:\n",
    "- #### 1. Data Wrangling\n",
    "- #### 2. Model Building\n",
    "- #### 3. Visulaization and Conclusion\n",
    "\n",
    "<b>NOTE :</b> It takes around 15-16 minutes for downloading the co-ordinate data. It will be saved in a file. In the next run, you are requested to comment out the \"Get co-ordinates\" block in the 'Standardizing customer data' section. \n",
    "\n",
    "----------\n",
    "\n",
    " For calculating the distance between the residence of the customers and the libraries we used the co-ordinate location of the addresses from \n",
    " OpenStreetMap data source: https://www.openstreetmap.org/\n"
   ]
  },
  {
   "cell_type": "markdown",
   "metadata": {},
   "source": [
    "## 1. Data Wrangling"
   ]
  },
  {
   "cell_type": "code",
   "execution_count": 1,
   "metadata": {},
   "outputs": [],
   "source": [
    "import pandas as pd\n",
    "import numpy as np\n",
    "import regex as re\n",
    "from datetime import datetime\n",
    "from matplotlib import pyplot as plt\n",
    "import seaborn as sns\n",
    "\n",
    "import geopandas # package required to find coordinates from address (source: https://geopandas.org/en/stable/getting_started/install.html )\n",
    "import geopy # package required to find coordinates from address (source: https://pypi.org/project/geopy/)\n",
    "\n",
    "# These pacakges use data from OpenStreetMap data source: https://www.openstreetmap.org/\n",
    "\n",
    "from geopy.geocoders import Nominatim"
   ]
  },
  {
   "cell_type": "markdown",
   "metadata": {},
   "source": [
    "We import the given data sets in pandas dataframe:"
   ]
  },
  {
   "cell_type": "code",
   "execution_count": 2,
   "metadata": {},
   "outputs": [],
   "source": [
    "book = pd.read_csv('data/books.csv')\n",
    "checkout = pd.read_csv('data/checkouts.csv')\n",
    "customer = pd.read_csv('data/customers.csv')\n",
    "lib = pd.read_csv('data/libraries.csv')"
   ]
  },
  {
   "cell_type": "markdown",
   "metadata": {},
   "source": [
    "#### Standardizing Books data \n",
    "\n",
    "The data tables contain some values which are distorted. We clear the data to make it workable. "
   ]
  },
  {
   "cell_type": "code",
   "execution_count": 3,
   "metadata": {},
   "outputs": [],
   "source": [
    "def get_price(x):\n",
    "    m = re.search(r'[0-9]+\\.[0-9]+', x)\n",
    "    return float(m.group(0))\n",
    "\n",
    "def get_number(x):\n",
    "    m = re.search(r'[0-9]+', x)\n",
    "    return int(m.group(0))\n",
    "\n",
    "def get_author(x): #### filters uncessary space in the string\n",
    "    auth_list = []\n",
    "    for xi in x:\n",
    "        if '  ' in xi:\n",
    "            xi = ' '.join(x.split('  '))\n",
    "        if '  ' in xi:\n",
    "            xi = ' '.join(x.split('  '))\n",
    "        if xi[0] == ' ' or xi[0] == \"'\" :\n",
    "            xi = xi[1:]\n",
    "        if xi[0] == ' ' or xi[0] == \"'\" :\n",
    "            xi = xi[1:]\n",
    "        if xi[-1] == ' ' or xi[-1] == \"'\":\n",
    "            xi =xi[:-1]\n",
    "        auth_list.append(xi)\n",
    "    return auth_list"
   ]
  },
  {
   "cell_type": "code",
   "execution_count": 4,
   "metadata": {},
   "outputs": [],
   "source": [
    "book_df= book.copy()\n",
    "book_df['price'] = book['price'].fillna('0.0').apply(get_price)\n",
    "book_df['categories'] = book['categories'].fillna(\"['Unknown']\").apply(lambda x: x[2:-2].split(','))\n",
    "book_df['authors'] = book['authors'].fillna(\"['Unknown']\").apply(lambda x: x[2:-2].split(','))\n",
    "book_df['authors'] = book_df.authors.apply(get_author)\n",
    "book_df['pages'] = book['pages'].fillna(0).apply(get_number)\n",
    "book_df['publisher'] = book['publisher'].fillna('Unknown') \n",
    "book_df['publishedDate'] = pd.to_datetime(book['publishedDate']).apply(lambda x: x.year)"
   ]
  },
  {
   "cell_type": "markdown",
   "metadata": {},
   "source": [
    "#### Standardizing Customer data\n",
    "\n",
    "Here we create two extra columns, customer's age and their coordinates of the residence address"
   ]
  },
  {
   "cell_type": "code",
   "execution_count": 5,
   "metadata": {},
   "outputs": [],
   "source": [
    "customer_df = customer.copy()\n",
    "\n",
    "def get_int(x):\n",
    "    m = re.search(r'[0-9]+',x)\n",
    "    return m.group(0)\n",
    "\n",
    "def get_edu(x): \n",
    "    '''filters uncessary space in the string\n",
    "    '''\n",
    "    if '  ' in x:\n",
    "        x = ' '.join(x.split('  '))\n",
    "    if '  ' in x:\n",
    "        x = ' '.join(x.split('  '))\n",
    "    if x[0] == ' ':\n",
    "        x = x[1:]\n",
    "    if x[-1] == ' ':\n",
    "        x =x[:-1]\n",
    "    return x\n",
    "\n",
    "def get_address(df): \n",
    "    '''\n",
    "    Creates an address string from the information of street address, zipcode, city, state\n",
    "    '''     \n",
    "    add_list = []\n",
    "    for i in range(len(df)):\n",
    "        if df.zipcode[i] != '000':\n",
    "            add = df.street_address[i] +', '+df.zipcode[i]\n",
    "        elif df.city[i] == 'unknown' and df.state[i].lower() != 'unknown':\n",
    "            add = df.street_address[i] +', '+df.state[i]\n",
    "        else:\n",
    "            add = df.street_address[i] +', '+df.state[i]\n",
    "        add_list.append(add)\n",
    "    return add_list\n",
    "\n",
    "def get_coordinates(add): \n",
    "    '''\n",
    "    Gets coordinates (latitude, longitude) of the corresponding address\n",
    "    '''\n",
    "    locator = Nominatim(user_agent=\"myGeocoder\")\n",
    "    location = locator.geocode(add)\n",
    "    if location is not None:\n",
    "        return location.latitude, location.longitude\n",
    "    else:\n",
    "        'unknown'"
   ]
  },
  {
   "cell_type": "code",
   "execution_count": 6,
   "metadata": {},
   "outputs": [],
   "source": [
    "### Cleaning data and converting them in appropriate form\n",
    "customer_df['zipcode'] = customer_df['zipcode'].fillna('000').apply(get_int)\n",
    "customer_df['education'] = customer_df['education'].fillna('others').apply(lambda x: get_edu(x.lower()))\n",
    "customer_df['gender'] = customer_df.gender.fillna('Unknown').apply(lambda x: get_edu(x.lower()))\n",
    "customer_df['city'] = customer_df['city'].fillna('Unknown')\n",
    "customer_df['state'] = customer_df['state'].fillna('Unknown')\n",
    "customer_df['state'] = customer_df.state.apply(lambda x: get_edu(x.lower()))\n",
    "customer_df['city'] = customer_df.city.apply(lambda x: get_edu(x.lower()))\n",
    "customer_df['address'] = get_address(customer_df)\n",
    "customer_df['address'] = customer_df['address'].apply(get_edu)\n",
    "customer_df['birth_date'] = pd.to_datetime(customer_df['birth_date'])\n",
    "customer_df['occupation'] = customer_df['occupation'].fillna('Unknown').apply(lambda x: get_edu(x.lower()))\n",
    "\n",
    "## Calculate age of the customers\n",
    "customer_df['age'] = (datetime.today().year - customer_df['birth_date'].apply(lambda x:x.year))"
   ]
  },
  {
   "cell_type": "code",
   "execution_count": 7,
   "metadata": {},
   "outputs": [],
   "source": [
    "## Get co-ordinates\n",
    "### This step takes around 15-16 minutes. It is advised that once it is done, save the results in a csv file and import that file later.\n",
    "### This step collects the latitude and longitude from the address \n",
    "\n",
    "##### Please comment out the following part for next run.\n",
    "cord_list = []\n",
    "for i in range(len(customer_df)):    \n",
    "    coord = get_coordinates(customer_df.address[i])\n",
    "    cord_list.append(coord)\n",
    "    \n",
    "customer_df['coordiantes'] = cord_list   \n",
    "customer_df['coordiantes'].to_csv('customer_loc.csv')"
   ]
  },
  {
   "cell_type": "code",
   "execution_count": 8,
   "metadata": {},
   "outputs": [],
   "source": [
    "cord_list = pd.read_csv('customer_loc.csv')\n",
    "customer_df['coordinates'] = cord_list['coordiantes']"
   ]
  },
  {
   "cell_type": "markdown",
   "metadata": {},
   "source": [
    "#### Standardizing Checkout data\n",
    "\n",
    "Here we create four extra columns weekday of check out (Sunday(0) to Saturday(6)), Month of the checkout, day of the month of the checkout, and late column which has value 1 if returned after 28 days, otherwise 0. "
   ]
  },
  {
   "cell_type": "code",
   "execution_count": 9,
   "metadata": {},
   "outputs": [],
   "source": [
    "### We drop all those entries where checkout date or return date is missing. \n",
    "### Since without one of this we cannot determine if the book was returned late. \n",
    "checkout_df = checkout.dropna().copy()"
   ]
  },
  {
   "cell_type": "code",
   "execution_count": 10,
   "metadata": {},
   "outputs": [],
   "source": [
    "def get_date(x):\n",
    "    '''\n",
    "    finds date-like part from a string\n",
    "    '''\n",
    "    m = re.findall(r'[0-9]+', x)\n",
    "    mj = ''.join(m)\n",
    "    dd = str(mj[:4])+'-'+str(mj[4:6])+'-'+str(mj[-2:])\n",
    "    return pd.to_datetime(dd)"
   ]
  },
  {
   "cell_type": "code",
   "execution_count": 11,
   "metadata": {},
   "outputs": [],
   "source": [
    "checkout_df['date_checkout'] = checkout_df['date_checkout'].apply(get_date)\n",
    "checkout_df['date_returned'] = checkout_df['date_returned'].apply(get_date)\n",
    "checkout_df['duration'] = (checkout_df['date_returned'] - checkout_df['date_checkout']).apply(lambda x:x.days)\n",
    "checkout_df = checkout_df[checkout_df['duration'] > 0 ]\n",
    "checkout_df['late'] = checkout_df['duration'].apply(lambda x: 1 if x > 28 else 0)\n",
    "checkout_df['weekday_checkout'] = checkout_df['date_checkout'].apply(lambda x: x.weekday())\n",
    "checkout_df['day_checkout'] = checkout_df['date_checkout'].apply(lambda x: x.day)\n",
    "checkout_df['month_checkout'] = checkout_df['date_checkout'].apply(lambda x: x.month)"
   ]
  },
  {
   "cell_type": "markdown",
   "metadata": {},
   "source": [
    "#### Standardizing Library data\n",
    "Here we create an extra column corresponding to the coordinates of the library address"
   ]
  },
  {
   "cell_type": "code",
   "execution_count": 12,
   "metadata": {},
   "outputs": [],
   "source": [
    "lib_df = lib.copy()\n",
    "lib_df['state'] = lib_df['region']\n",
    "lib_df = lib_df.drop('region', axis = 1)\n",
    "lib_df['zipcode'] = lib_df['postal_code']\n",
    "lib_df = lib_df.drop('postal_code', axis = 1)\n",
    "lib_df['zipcode'] = lib_df['zipcode'].fillna('000').apply(get_int)\n",
    "lib_df['city'] = lib_df['city'].fillna('Unknown').apply(lambda x: get_edu(x.lower()))\n",
    "lib_df['state'] = lib_df['state'].fillna('Unknown').apply(lambda x: get_edu(x.upper()))\n",
    "lib_df['address'] = get_address(lib_df)\n",
    "\n",
    "## This step may take few seconds\n",
    "lib_df['lib_cord'] = lib_df['address'].apply(get_coordinates)"
   ]
  },
  {
   "cell_type": "markdown",
   "metadata": {},
   "source": [
    "#### Next step\n",
    "\n",
    "From here, we can either take a route to first visualize/analyse the possibility of late return against different variable, known as exploratory data analysis (EDA)\n",
    "\n",
    "<b>OR</b> \n",
    "\n",
    "Build a model and from the model try to understand the effcet of diiferent features.\n",
    "\n",
    "We take the second approach. It is because, if the data size and data features are too large, first approach might not work. "
   ]
  },
  {
   "cell_type": "markdown",
   "metadata": {},
   "source": [
    "## 2. Model Building"
   ]
  },
  {
   "cell_type": "markdown",
   "metadata": {},
   "source": [
    "Let us combine the checkout data with customers, library and book. While joing, we drop some columns like checkout dates, name of customer, street_address of customer, street_address of library, customer's birthdate since all the information from that is already stored in other newly added features."
   ]
  },
  {
   "cell_type": "code",
   "execution_count": 13,
   "metadata": {},
   "outputs": [],
   "source": [
    "joined_df = checkout_df[['id','patron_id','library_id','weekday_checkout','day_checkout','month_checkout','late']].join(\n",
    "    book_df.set_index('id'), on='id',how ='inner').join(\n",
    "    customer_df.set_index('id'), on='patron_id',how ='inner').join(\n",
    "    lib_df.set_index('id'), on='library_id',how ='inner', lsuffix = '_cust', rsuffix = '_lib')"
   ]
  },
  {
   "cell_type": "code",
   "execution_count": 14,
   "metadata": {},
   "outputs": [],
   "source": [
    "joined_df = joined_df.drop(['birth_date','name_cust','street_address_cust','street_address_lib', 'address_cust', 'address_lib'],axis=1)\n",
    "\n",
    "joined_df = joined_df[~joined_df['coordinates'].isnull()].reset_index()"
   ]
  },
  {
   "cell_type": "code",
   "execution_count": 15,
   "metadata": {},
   "outputs": [],
   "source": [
    "def get_distance(cord1, cord2):\n",
    "    '''\n",
    "    This function calculate the geographical distance bewteen two points on the surface of earth\n",
    "    '''\n",
    "    cord1 = cord1[1:-1].split(', ')\n",
    "    #cord2 = cord2[1:-1].split(', ')\n",
    "    lon1 = np.radians(float(cord1[1]))\n",
    "    lon2 = np.radians(float(cord2[1]))\n",
    "    lat1 = np.radians(float(cord1[0]))\n",
    "    lat2 = np.radians(float(cord2[0]))\n",
    "      \n",
    "    # Haversine formula\n",
    "    dlon = lon2 - lon1\n",
    "    dlat = lat2 - lat1\n",
    "    a = np.sin(dlat / 2)**2 + np.cos(lat1) * np.cos(lat2) * np.sin(dlon / 2)**2 \n",
    "    c = 2 * np.arcsin(np.sqrt(a))   \n",
    "    # Radius of earth in miles\n",
    "    r = 3956\n",
    "    return(c * r)"
   ]
  },
  {
   "cell_type": "code",
   "execution_count": 16,
   "metadata": {},
   "outputs": [],
   "source": [
    "dist_list = [get_distance(joined_df['coordinates'][i], joined_df['lib_cord'][i]) for i in range(len(joined_df))]\n",
    "joined_df['distance'] = dist_list\n",
    "joined_df = joined_df.drop(['coordinates','lib_cord','index'],axis=1)\n",
    "\n",
    "joined_df = joined_df[joined_df['age'] > 0 ] ## Filter's out wrongly provided date of birth\n",
    "joined_df = joined_df[joined_df['distance'] < 100 ] ### Filters out one wrongly calculated distance\n",
    "joined_df = joined_df.dropna() ## Finally droping all NaN values"
   ]
  },
  {
   "cell_type": "markdown",
   "metadata": {},
   "source": [
    "### Choice of model\n",
    "\n",
    "Since our independent variables are in continuous( age, price, page, distance) and discrete (book-id, author, category etc.) form and our dependent varible 'late' is completely discreet (0 or 1) we need a 'classifier' like DecisionTree/RandomForest, K-NN etc. Logistic regression is not suitable since some of the independent variables are discrete. SVM will be computationally too expensive for so many features. "
   ]
  },
  {
   "cell_type": "code",
   "execution_count": 17,
   "metadata": {},
   "outputs": [],
   "source": [
    "from sklearn.neighbors import KNeighborsClassifier\n",
    "from sklearn.ensemble import RandomForestClassifier\n",
    "from sklearn.model_selection import train_test_split\n",
    "from sklearn.model_selection import GridSearchCV\n",
    "from sklearn.feature_extraction import DictVectorizer\n",
    "from sklearn.feature_extraction.text import CountVectorizer\n",
    "from sklearn.pipeline import FeatureUnion\n",
    "from sklearn.pipeline import Pipeline\n",
    "from sklearn.preprocessing import FunctionTransformer"
   ]
  },
  {
   "cell_type": "code",
   "execution_count": 18,
   "metadata": {},
   "outputs": [],
   "source": [
    "## Transform the data to a suitable form \n",
    "\n",
    "transformer = FeatureUnion([\n",
    "                ('rest_of_all', \n",
    "                  Pipeline([('extract_field', \n",
    "                              FunctionTransformer(lambda x: x[['distance','id', 'patron_id', 'library_id',\n",
    "                                                               'publisher', 'publishedDate', 'price', 'pages',\n",
    "                                                               'weekday_checkout','day_checkout','month_checkout',\n",
    "                                                               'state_cust', 'zipcode_cust','city_cust',\n",
    "                                                              'gender', 'education', 'occupation','age',\n",
    "                                                               'city_lib','state_lib', 'zipcode_lib']].T.to_dict().values(),           \n",
    "                                                  validate=False)),\n",
    "                            ('dictvec', \n",
    "                              DictVectorizer())])),\n",
    "                ('author', \n",
    "                  Pipeline([('extract_field',\n",
    "                              FunctionTransformer(lambda x: x['authors'], \n",
    "                                                  validate=False)),\n",
    "                            ('countvec', \n",
    "                              CountVectorizer(tokenizer=lambda doc: doc,lowercase=False))])),\n",
    "                ('category', \n",
    "                  Pipeline([('extract_field',\n",
    "                              FunctionTransformer(lambda x: x['categories'], \n",
    "                                                  validate=False)),\n",
    "                            ('countvec', \n",
    "                              CountVectorizer(tokenizer=lambda doc: doc,lowercase=False))]))])"
   ]
  },
  {
   "cell_type": "code",
   "execution_count": 19,
   "metadata": {},
   "outputs": [],
   "source": [
    "X = transformer.fit_transform(joined_df)\n",
    "y = np.array(joined_df['late'])\n",
    "X_train, X_test, y_train, y_test = train_test_split(X, y, test_size=0.3, random_state=1) # Keeping 30% of data in test"
   ]
  },
  {
   "cell_type": "code",
   "execution_count": 20,
   "metadata": {},
   "outputs": [
    {
     "data": {
      "text/plain": [
       "GridSearchCV(estimator=RandomForestClassifier(),\n",
       "             param_grid={'max_depth': array([ 2,  3,  4,  5,  6,  7,  8,  9, 10, 11, 12, 13, 14, 15, 16, 17, 18,\n",
       "       19, 20, 21, 22, 23, 24, 25, 26, 27, 28, 29, 30, 31, 32, 33, 34, 35,\n",
       "       36, 37, 38, 39, 40, 41, 42, 43, 44, 45, 46, 47, 48, 49]),\n",
       "                         'random_state': [1]})"
      ]
     },
     "execution_count": 20,
     "metadata": {},
     "output_type": "execute_result"
    }
   ],
   "source": [
    "# RandomForestClassifier\n",
    "## Performing grid_search Cross-Validation to find suitable hyper-parameeters \n",
    "parameters = {'max_depth':np.arange(2,50),'random_state':[1]}\n",
    "tree = RandomForestClassifier()\n",
    "clf = GridSearchCV(tree, parameters)\n",
    "clf.fit(X_train, y_train)"
   ]
  },
  {
   "cell_type": "code",
   "execution_count": 21,
   "metadata": {},
   "outputs": [
    {
     "data": {
      "text/plain": [
       "{'max_depth': 47, 'random_state': 1}"
      ]
     },
     "execution_count": 21,
     "metadata": {},
     "output_type": "execute_result"
    }
   ],
   "source": [
    "clf.best_params_"
   ]
  },
  {
   "cell_type": "code",
   "execution_count": 22,
   "metadata": {},
   "outputs": [
    {
     "data": {
      "text/plain": [
       "0.8521939953810623"
      ]
     },
     "execution_count": 22,
     "metadata": {},
     "output_type": "execute_result"
    }
   ],
   "source": [
    "clf.score(X_test,y_test)"
   ]
  },
  {
   "cell_type": "code",
   "execution_count": 23,
   "metadata": {},
   "outputs": [
    {
     "data": {
      "text/plain": [
       "GridSearchCV(estimator=KNeighborsClassifier(),\n",
       "             param_grid={'n_neighbors': array([ 3,  4,  5,  6,  7,  8,  9, 10, 11, 12, 13, 14, 15, 16, 17, 18, 19,\n",
       "       20, 21, 22, 23, 24])})"
      ]
     },
     "execution_count": 23,
     "metadata": {},
     "output_type": "execute_result"
    }
   ],
   "source": [
    "## KNeighborsClassifier\n",
    "## Performing grid_search Cross-Validation to find suitable hyper-parameeters \n",
    "parameters = {'n_neighbors': np.arange(3,25)}\n",
    "knn = KNeighborsClassifier()\n",
    "kclf = GridSearchCV(knn, parameters)\n",
    "kclf.fit(X_train,y_train)"
   ]
  },
  {
   "cell_type": "code",
   "execution_count": 24,
   "metadata": {},
   "outputs": [
    {
     "data": {
      "text/plain": [
       "{'n_neighbors': 21}"
      ]
     },
     "execution_count": 24,
     "metadata": {},
     "output_type": "execute_result"
    }
   ],
   "source": [
    "kclf.best_params_"
   ]
  },
  {
   "cell_type": "code",
   "execution_count": 25,
   "metadata": {},
   "outputs": [
    {
     "data": {
      "text/plain": [
       "0.836027713625866"
      ]
     },
     "execution_count": 25,
     "metadata": {},
     "output_type": "execute_result"
    }
   ],
   "source": [
    "kclf.score(X_test,y_test)"
   ]
  },
  {
   "cell_type": "markdown",
   "metadata": {},
   "source": [
    "#### So, RandomForestClassifier works little bit better than K-NN\n",
    "\n",
    "#### Now, let us find which feature is mainly determing the outcome"
   ]
  },
  {
   "cell_type": "markdown",
   "metadata": {},
   "source": [
    "Let us construct another copy of the  RandomForestClassifier model with best params for Feature extarction"
   ]
  },
  {
   "cell_type": "code",
   "execution_count": 26,
   "metadata": {},
   "outputs": [
    {
     "data": {
      "text/plain": [
       "RandomForestClassifier(max_depth=47, random_state=1)"
      ]
     },
     "execution_count": 26,
     "metadata": {},
     "output_type": "execute_result"
    }
   ],
   "source": [
    "rfc = RandomForestClassifier(max_depth=47,random_state=1)\n",
    "rfc.fit(X_train,y_train)"
   ]
  },
  {
   "cell_type": "code",
   "execution_count": 27,
   "metadata": {},
   "outputs": [
    {
     "data": {
      "image/png": "[encoded data removed]",
      "text/plain": [
       "<Figure size 432x288 with 1 Axes>"
      ]
     },
     "metadata": {
      "needs_background": "light"
     },
     "output_type": "display_data"
    }
   ],
   "source": [
    "plt.plot(rfc.feature_importances_)\n",
    "plt.xlabel('Feature Index', fontsize = '14')\n",
    "plt.ylabel('Importance',fontsize = '14');"
   ]
  },
  {
   "cell_type": "markdown",
   "metadata": {},
   "source": [
    "We can see that only some of the features are very important. Others are not. Let us find what are these features."
   ]
  },
  {
   "cell_type": "code",
   "execution_count": 28,
   "metadata": {},
   "outputs": [],
   "source": [
    "imp_list = [i for i, imp in enumerate(rfc.feature_importances_) if imp > 0.01] # We set a cutoff of 0.01 looking the plot above"
   ]
  },
  {
   "cell_type": "code",
   "execution_count": 29,
   "metadata": {},
   "outputs": [
    {
     "data": {
      "text/plain": [
       "[0, 9, 16, 17, 281, 290, 1732, 1733, 1803]"
      ]
     },
     "execution_count": 29,
     "metadata": {},
     "output_type": "execute_result"
    }
   ],
   "source": [
    "imp_list"
   ]
  },
  {
   "cell_type": "code",
   "execution_count": 30,
   "metadata": {},
   "outputs": [],
   "source": [
    "## It is not possible to extract the Featurenames directly from the 'transformer' FeatureUnion. \n",
    "## So we collect the feature names from the first step of DictVectorization() "
   ]
  },
  {
   "cell_type": "code",
   "execution_count": 31,
   "metadata": {},
   "outputs": [
    {
     "data": {
      "text/plain": [
       "<1441x1877 sparse matrix of type '<class 'numpy.float64'>'\n",
       "\twith 30261 stored elements in Compressed Sparse Row format>"
      ]
     },
     "execution_count": 31,
     "metadata": {},
     "output_type": "execute_result"
    }
   ],
   "source": [
    "vec1 = DictVectorizer()\n",
    "vec1.fit_transform(joined_df[['distance','id', 'patron_id', 'library_id',\n",
    "                                                               'publisher', 'publishedDate', 'price', 'pages',\n",
    "                                                               'weekday_checkout','day_checkout','month_checkout',\n",
    "                                                               'state_cust', 'zipcode_cust','city_cust',\n",
    "                                                              'gender', 'education', 'occupation','age',\n",
    "                                                               'city_lib','state_lib', 'zipcode_lib']].T.to_dict().values())"
   ]
  },
  {
   "cell_type": "code",
   "execution_count": 32,
   "metadata": {},
   "outputs": [
    {
     "data": {
      "text/plain": [
       "['age',\n",
       " 'city_cust=portland',\n",
       " 'day_checkout',\n",
       " 'distance',\n",
       " 'month_checkout',\n",
       " 'pages',\n",
       " 'price',\n",
       " 'publishedDate',\n",
       " 'weekday_checkout']"
      ]
     },
     "execution_count": 32,
     "metadata": {},
     "output_type": "execute_result"
    }
   ],
   "source": [
    "### len(vec1.get_feature_names()) = 1877 suggest that all the important features are already in the this list. Author and Category is not important.\n",
    "[vec1.get_feature_names()[i] for i in imp_list]"
   ]
  },
  {
   "cell_type": "markdown",
   "metadata": {},
   "source": [
    "#### Most important feature"
   ]
  },
  {
   "cell_type": "code",
   "execution_count": 33,
   "metadata": {},
   "outputs": [
    {
     "data": {
      "text/plain": [
       "17"
      ]
     },
     "execution_count": 33,
     "metadata": {},
     "output_type": "execute_result"
    }
   ],
   "source": [
    "np.argmax(rfc.feature_importances_)"
   ]
  },
  {
   "cell_type": "code",
   "execution_count": 34,
   "metadata": {},
   "outputs": [
    {
     "data": {
      "text/plain": [
       "'distance'"
      ]
     },
     "execution_count": 34,
     "metadata": {},
     "output_type": "execute_result"
    }
   ],
   "source": [
    "vec1.get_feature_names()[17]"
   ]
  },
  {
   "cell_type": "markdown",
   "metadata": {},
   "source": [
    "#### So, distance between the Library and the Customer's residence is the most important determining factor for Late Return"
   ]
  },
  {
   "cell_type": "markdown",
   "metadata": {},
   "source": [
    "Therefore, we can make an even simplier model with fewer features with works almost eqally well."
   ]
  },
  {
   "cell_type": "code",
   "execution_count": 35,
   "metadata": {},
   "outputs": [
    {
     "data": {
      "text/plain": [
       "['age', 'day_checkout', 'distance', 'price']"
      ]
     },
     "execution_count": 35,
     "metadata": {},
     "output_type": "execute_result"
    }
   ],
   "source": [
    "imp_list2 = [i for i, imp in enumerate(rfc.feature_importances_) if imp > 0.02]\n",
    "[vec1.get_feature_names()[i] for i in imp_list2]"
   ]
  },
  {
   "cell_type": "code",
   "execution_count": 36,
   "metadata": {},
   "outputs": [],
   "source": [
    "X = joined_df[['age', 'day_checkout', 'distance', 'price']]\n",
    "y = joined_df['late']\n",
    "X_train, X_test, y_train, y_test = train_test_split(X, y, test_size=0.3, random_state=1) # Keeping 30% of data in test"
   ]
  },
  {
   "cell_type": "code",
   "execution_count": 37,
   "metadata": {},
   "outputs": [
    {
     "data": {
      "text/plain": [
       "GridSearchCV(estimator=RandomForestClassifier(),\n",
       "             param_grid={'max_depth': array([ 2,  3,  4,  5,  6,  7,  8,  9, 10, 11, 12, 13, 14, 15, 16, 17, 18,\n",
       "       19, 20, 21, 22, 23, 24, 25, 26, 27, 28, 29, 30, 31, 32, 33, 34, 35,\n",
       "       36, 37, 38, 39, 40, 41, 42, 43, 44, 45, 46, 47, 48, 49]),\n",
       "                         'random_state': [1]})"
      ]
     },
     "execution_count": 37,
     "metadata": {},
     "output_type": "execute_result"
    }
   ],
   "source": [
    "# RandomForestClassifier\n",
    "## Performing grid_search Cross-Validation to find suitable hyper-parameeters \n",
    "parameters = {'max_depth':np.arange(2,50),'random_state':[1]}\n",
    "tree = RandomForestClassifier()\n",
    "clf = GridSearchCV(tree, parameters)\n",
    "clf.fit(X_train, y_train)"
   ]
  },
  {
   "cell_type": "code",
   "execution_count": 38,
   "metadata": {},
   "outputs": [
    {
     "data": {
      "text/plain": [
       "{'max_depth': 3, 'random_state': 1}"
      ]
     },
     "execution_count": 38,
     "metadata": {},
     "output_type": "execute_result"
    }
   ],
   "source": [
    "clf.best_params_"
   ]
  },
  {
   "cell_type": "code",
   "execution_count": 39,
   "metadata": {},
   "outputs": [
    {
     "data": {
      "text/plain": [
       "0.8383371824480369"
      ]
     },
     "execution_count": 39,
     "metadata": {},
     "output_type": "execute_result"
    }
   ],
   "source": [
    "clf.score(X_test,y_test)"
   ]
  },
  {
   "cell_type": "markdown",
   "metadata": {},
   "source": [
    "## 3. Visualization and Conclusion"
   ]
  },
  {
   "cell_type": "markdown",
   "metadata": {},
   "source": [
    "We plot probability of late return with different parameters from the data to check if the model's prediction is consistent with the data. We start with top 4 parameters: Distance, Age of the Customer, Price of the book, Day of the month for checkout. "
   ]
  },
  {
   "cell_type": "code",
   "execution_count": 40,
   "metadata": {},
   "outputs": [],
   "source": [
    "bin_df = joined_df[['late']].copy()\n",
    "bin_df['dist_bin'] = joined_df['distance'].apply(lambda x: (x//1)+1)\n",
    "bin_df['price_bin'] = joined_df['price'].apply(lambda x: x//50)\n",
    "bin_df['page_bin'] = joined_df['pages'].apply(lambda x: x//100)\n",
    "bin_df['age_bin'] = joined_df['age'].apply(lambda x: x//10)"
   ]
  },
  {
   "cell_type": "code",
   "execution_count": 41,
   "metadata": {},
   "outputs": [
    {
     "data": {
      "image/png": "[encoded data removed]",
      "text/plain": [
       "<Figure size 432x288 with 1 Axes>"
      ]
     },
     "metadata": {
      "needs_background": "light"
     },
     "output_type": "display_data"
    }
   ],
   "source": [
    "sns.barplot(data=bin_df, x = 'dist_bin', y='late', palette=\"Blues_d\")\n",
    "plt.xlabel('Distance in miles', fontsize=14)\n",
    "plt.ylabel('Probability of late return', fontsize=14)\n",
    "plt.xlim(-0.5,10.5)\n",
    "plt.ylim(0,0.9)\n",
    "#plt.grid('on')\n",
    "plt.savefig('dist.png', dpi = 200)"
   ]
  },
  {
   "cell_type": "code",
   "execution_count": 42,
   "metadata": {},
   "outputs": [
    {
     "data": {
      "text/plain": [
       "''"
      ]
     },
     "execution_count": 42,
     "metadata": {},
     "output_type": "execute_result"
    },
    {
     "data": {
      "image/png": "[encoded data removed]",
      "text/plain": [
       "<Figure size 432x288 with 1 Axes>"
      ]
     },
     "metadata": {
      "needs_background": "light"
     },
     "output_type": "display_data"
    }
   ],
   "source": [
    "fig, ax = plt.subplots()\n",
    "sns.barplot(data=bin_df, x = 'price_bin', y='late',palette=\"Blues_d\")\n",
    "ax.set_xticklabels([50*i for i in range(1,16)])\n",
    "plt.xlabel('Price in USD', fontsize=14)\n",
    "plt.ylabel('Probability of late return', fontsize=14)\n",
    "#plt.grid('on')\n",
    "plt.savefig('price.png', dpi = 200)\n",
    ";"
   ]
  },
  {
   "cell_type": "code",
   "execution_count": 43,
   "metadata": {},
   "outputs": [
    {
     "data": {
      "text/plain": [
       "''"
      ]
     },
     "execution_count": 43,
     "metadata": {},
     "output_type": "execute_result"
    },
    {
     "data": {
      "image/png": "[encoded data removed]",
      "text/plain": [
       "<Figure size 432x288 with 1 Axes>"
      ]
     },
     "metadata": {
      "needs_background": "light"
     },
     "output_type": "display_data"
    }
   ],
   "source": [
    "fig, ax = plt.subplots()\n",
    "sns.barplot(data=bin_df, x = 'age_bin', y='late',palette=\"Blues_d\")\n",
    "ax.set_xticklabels([10*i for i in range(1,11)])\n",
    "plt.xlabel('Age in Years', fontsize=14)\n",
    "plt.ylabel('Probability of late return', fontsize=14)\n",
    "#plt.grid('on')\n",
    "plt.savefig('age.png', dpi = 200)\n",
    ";"
   ]
  },
  {
   "cell_type": "code",
   "execution_count": 44,
   "metadata": {},
   "outputs": [
    {
     "data": {
      "image/png": "[encoded data removed]",
      "text/plain": [
       "<Figure size 432x288 with 1 Axes>"
      ]
     },
     "metadata": {
      "needs_background": "light"
     },
     "output_type": "display_data"
    }
   ],
   "source": [
    "sns.barplot(data=joined_df, x = 'day_checkout', y='late', palette=\"Blues_d\", ci=None)\n",
    "plt.xlabel('Day of the Month', fontsize=14)\n",
    "plt.ylabel('Probability of late return', fontsize=14)\n",
    "#plt.xlim(-0.5,10.5)\n",
    "plt.ylim(0,0.45)\n",
    "#plt.grid('on')\n",
    "plt.savefig('day_of_month.png', dpi = 200)"
   ]
  },
  {
   "cell_type": "markdown",
   "metadata": {},
   "source": [
    "#### Let's see other unimportant factors predicted by the model"
   ]
  },
  {
   "cell_type": "code",
   "execution_count": 45,
   "metadata": {},
   "outputs": [
    {
     "data": {
      "text/plain": [
       "''"
      ]
     },
     "execution_count": 45,
     "metadata": {},
     "output_type": "execute_result"
    },
    {
     "data": {
      "image/png": "[encoded data removed]",
      "text/plain": [
       "<Figure size 432x288 with 1 Axes>"
      ]
     },
     "metadata": {
      "needs_background": "light"
     },
     "output_type": "display_data"
    }
   ],
   "source": [
    "sns.barplot(data=joined_df, y = 'education', x='late', orient= 'h',palette=\"Blues_d\", ci=None);\n",
    "plt.xlim(0,0.30)\n",
    "plt.ylabel('Education Level', fontsize=14)\n",
    "plt.xlabel('Probability of late return', fontsize=14)\n",
    ";"
   ]
  },
  {
   "cell_type": "code",
   "execution_count": 46,
   "metadata": {},
   "outputs": [
    {
     "data": {
      "text/plain": [
       "''"
      ]
     },
     "execution_count": 46,
     "metadata": {},
     "output_type": "execute_result"
    },
    {
     "data": {
      "image/png": "[encoded data removed]",
      "text/plain": [
       "<Figure size 432x288 with 1 Axes>"
      ]
     },
     "metadata": {
      "needs_background": "light"
     },
     "output_type": "display_data"
    }
   ],
   "source": [
    "sns.barplot(data=joined_df, y = 'gender', x='late', orient= 'h',palette=\"Blues_d\", ci=None);\n",
    "plt.xlim(0,0.30)\n",
    "plt.ylabel('Gender', fontsize=14)\n",
    "plt.xlabel('Probability of late return', fontsize=14)\n",
    ";"
   ]
  },
  {
   "cell_type": "markdown",
   "metadata": {},
   "source": [
    "### Conclusion\n",
    "\n",
    "- The distance between the Customer's residence and the Library is the most important factor. For the distance within 3 miles, the possibility of late return is around 10%, whereas for distance > 8 miles the possibility is 70-80%.\n",
    "- Other factors like days of the month seem to play some role, where the possibility of late return is high if the book is checked out on earlier days of the month. However, the effect of this is less important than distance. \n",
    "- Similarly price of the book or age has some importance, but their importance is not sufficient enough that one can predict a late return depending on these factors.\n",
    "- Education level, gender of the customer, publisher or author of the book has practically no effect on a late return. \n",
    "\n",
    "#### Depending on these, I recommend the libraries prioritize renting books to the local customers, particularly those customers which live within 3 miles of the library.\n",
    "\n",
    "-------------------\n",
    "Arindam Mazumdar (arindam.presi@gmail.com)"
   ]
  },
  {
   "cell_type": "code",
   "execution_count": null,
   "metadata": {},
   "outputs": [],
   "source": []
  }
 ],
 "metadata": {
  "kernelspec": {
   "display_name": "Python 3",
   "language": "python",
   "name": "python3"
  },
  "language_info": {
   "codemirror_mode": {
    "name": "ipython",
    "version": 3
   },
   "file_extension": ".py",
   "mimetype": "text/x-python",
   "name": "python",
   "nbconvert_exporter": "python",
   "pygments_lexer": "ipython3",
   "version": "3.8.3"
  }
 },
 "nbformat": 4,
 "nbformat_minor": 4
}
